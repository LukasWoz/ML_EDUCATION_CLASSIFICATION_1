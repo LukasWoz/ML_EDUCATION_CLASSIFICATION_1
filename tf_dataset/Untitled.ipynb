{
 "cells": [
  {
   "cell_type": "code",
   "execution_count": 1,
   "id": "5cff3d41-13ed-4d9c-b6f3-4fa1498a1217",
   "metadata": {},
   "outputs": [
    {
     "name": "stderr",
     "output_type": "stream",
     "text": [
      "2023-11-03 16:30:00.336375: E tensorflow/compiler/xla/stream_executor/cuda/cuda_dnn.cc:9342] Unable to register cuDNN factory: Attempting to register factory for plugin cuDNN when one has already been registered\n",
      "2023-11-03 16:30:00.336409: E tensorflow/compiler/xla/stream_executor/cuda/cuda_fft.cc:609] Unable to register cuFFT factory: Attempting to register factory for plugin cuFFT when one has already been registered\n",
      "2023-11-03 16:30:00.336424: E tensorflow/compiler/xla/stream_executor/cuda/cuda_blas.cc:1518] Unable to register cuBLAS factory: Attempting to register factory for plugin cuBLAS when one has already been registered\n",
      "2023-11-03 16:30:00.342102: I tensorflow/core/platform/cpu_feature_guard.cc:182] This TensorFlow binary is optimized to use available CPU instructions in performance-critical operations.\n",
      "To enable the following instructions: AVX2 FMA, in other operations, rebuild TensorFlow with the appropriate compiler flags.\n"
     ]
    }
   ],
   "source": [
    "import tensorflow as tf"
   ]
  },
  {
   "cell_type": "code",
   "execution_count": 41,
   "id": "193c03ca-312c-4e3f-be7f-38d7b726ef04",
   "metadata": {},
   "outputs": [],
   "source": [
    "daily_sales_numbers = [21, 22, -108, 31, -1, 32, 34, 31]"
   ]
  },
  {
   "cell_type": "code",
   "execution_count": 42,
   "id": "33c18aa9-c755-4d80-aa10-82a47c4cf406",
   "metadata": {},
   "outputs": [
    {
     "data": {
      "text/plain": [
       "<_TensorSliceDataset element_spec=TensorSpec(shape=(), dtype=tf.int32, name=None)>"
      ]
     },
     "execution_count": 42,
     "metadata": {},
     "output_type": "execute_result"
    }
   ],
   "source": [
    "tf_dataset = tf.data.Dataset.from_tensor_slices(daily_sales_numbers)\n",
    "tf_dataset"
   ]
  },
  {
   "cell_type": "code",
   "execution_count": 43,
   "id": "39f44d57-b1e7-4b2b-9f23-5296d9c97f38",
   "metadata": {},
   "outputs": [
    {
     "name": "stdout",
     "output_type": "stream",
     "text": [
      "tf.Tensor(21, shape=(), dtype=int32)\n",
      "tf.Tensor(22, shape=(), dtype=int32)\n",
      "tf.Tensor(-108, shape=(), dtype=int32)\n",
      "tf.Tensor(31, shape=(), dtype=int32)\n",
      "tf.Tensor(-1, shape=(), dtype=int32)\n",
      "tf.Tensor(32, shape=(), dtype=int32)\n",
      "tf.Tensor(34, shape=(), dtype=int32)\n",
      "tf.Tensor(31, shape=(), dtype=int32)\n"
     ]
    }
   ],
   "source": [
    "for sales in tf_dataset:\n",
    "    print(sales)"
   ]
  },
  {
   "cell_type": "code",
   "execution_count": 44,
   "id": "7a42701b-7c5e-4a8b-900f-c1b87e989861",
   "metadata": {},
   "outputs": [
    {
     "name": "stdout",
     "output_type": "stream",
     "text": [
      "21\n",
      "22\n",
      "-108\n",
      "31\n",
      "-1\n",
      "32\n",
      "34\n",
      "31\n"
     ]
    }
   ],
   "source": [
    "for sales in tf_dataset:\n",
    "    print(sales.numpy())"
   ]
  },
  {
   "cell_type": "code",
   "execution_count": 45,
   "id": "7c9188bc-bd30-4e31-97ec-4f1580be9093",
   "metadata": {},
   "outputs": [
    {
     "name": "stdout",
     "output_type": "stream",
     "text": [
      "21\n",
      "22\n",
      "-108\n",
      "31\n",
      "-1\n",
      "32\n",
      "34\n",
      "31\n"
     ]
    }
   ],
   "source": [
    "for sales in tf_dataset.as_numpy_iterator():\n",
    "    print(sales)"
   ]
  },
  {
   "cell_type": "code",
   "execution_count": 69,
   "id": "9976efa9-6fa6-4057-a20b-231adfeb87bb",
   "metadata": {},
   "outputs": [
    {
     "name": "stdout",
     "output_type": "stream",
     "text": [
      "1512\n",
      "1584\n",
      "2304\n"
     ]
    }
   ],
   "source": [
    "  for sales in tf_dataset.take(3):\n",
    "      print(sales.numpy())"
   ]
  },
  {
   "cell_type": "markdown",
   "id": "8e14fa54-c043-43ff-ab9a-fe2b06194257",
   "metadata": {},
   "source": [
    "### Filtering data points"
   ]
  },
  {
   "cell_type": "code",
   "execution_count": 47,
   "id": "e2329f73-06dc-446d-beee-ecdf8adcf7bf",
   "metadata": {},
   "outputs": [
    {
     "name": "stdout",
     "output_type": "stream",
     "text": [
      "21\n",
      "22\n",
      "31\n",
      "32\n",
      "34\n",
      "31\n"
     ]
    }
   ],
   "source": [
    "tf_dataset = tf_dataset.filter(lambda x: x>0)\n",
    "for sales in tf_dataset.as_numpy_iterator():\n",
    "    print(sales)"
   ]
  },
  {
   "cell_type": "code",
   "execution_count": 48,
   "id": "500fcacf-af24-4f8a-ba99-fe195503498b",
   "metadata": {},
   "outputs": [
    {
     "name": "stdout",
     "output_type": "stream",
     "text": [
      "1512\n",
      "1584\n",
      "2232\n",
      "2304\n",
      "2448\n",
      "2232\n"
     ]
    }
   ],
   "source": [
    "tf_dataset = tf_dataset.map(lambda x: x*72)\n",
    "for sales in tf_dataset.as_numpy_iterator():\n",
    "    print(sales)"
   ]
  },
  {
   "cell_type": "code",
   "execution_count": 49,
   "id": "a2abdfdf-97b6-4b85-8d1b-f5547a52a812",
   "metadata": {},
   "outputs": [
    {
     "name": "stdout",
     "output_type": "stream",
     "text": [
      "1584\n",
      "1512\n",
      "2232\n",
      "2448\n",
      "2232\n",
      "2304\n"
     ]
    }
   ],
   "source": [
    "tf_dataset = tf_dataset.shuffle(2)\n",
    "for sales in tf_dataset.as_numpy_iterator():\n",
    "    print(sales)"
   ]
  },
  {
   "cell_type": "markdown",
   "id": "9ca88628-df34-454f-acc9-08878e310275",
   "metadata": {},
   "source": [
    "### Useful if running on multi gpu:"
   ]
  },
  {
   "cell_type": "code",
   "execution_count": 50,
   "id": "8188c983-e9c5-4951-8661-0d0e37a57fd6",
   "metadata": {},
   "outputs": [
    {
     "name": "stdout",
     "output_type": "stream",
     "text": [
      "[1512 2232 1584 2304]\n",
      "[2232 2448]\n"
     ]
    }
   ],
   "source": [
    "for sales in tf_dataset.batch(4).as_numpy_iterator():\n",
    "    print(sales)"
   ]
  },
  {
   "cell_type": "code",
   "execution_count": 53,
   "id": "832849d0-5817-4292-b379-298f4a299cbf",
   "metadata": {},
   "outputs": [],
   "source": [
    "tf_dataset1 = tf.data.Dataset.from_tensor_slices(daily_sales_numbers)\n",
    "tf_dataset1 = tf_dataset1.filter(lambda x: x>0).map(lambda y: y*72).shuffle(2).batch(4)"
   ]
  },
  {
   "cell_type": "code",
   "execution_count": 54,
   "id": "aa6701bd-5b85-41c0-ac86-932b184cc0be",
   "metadata": {},
   "outputs": [
    {
     "name": "stdout",
     "output_type": "stream",
     "text": [
      "[1512 2232 2304 1584]\n",
      "[2232 2448]\n"
     ]
    }
   ],
   "source": [
    "for sales in tf_dataset1.as_numpy_iterator():\n",
    "    print(sales)"
   ]
  },
  {
   "cell_type": "markdown",
   "id": "ef1fdfe1-dc47-4f9f-a09c-86d4801ede29",
   "metadata": {},
   "source": [
    "# IMAGES"
   ]
  },
  {
   "cell_type": "code",
   "execution_count": 111,
   "id": "2ae3aabe-4cf7-4bf0-b2f0-a1ad9a0cede8",
   "metadata": {},
   "outputs": [
    {
     "name": "stdout",
     "output_type": "stream",
     "text": [
      "b'images/cat/360_F_409262227_YxFl54ykmDRYwPgd2YNLhfwPAF34Iqah.jpg'\n",
      "b'images/cat/Cat_March_2010-1.jpg'\n",
      "b'images/cat/Cat_November_2010-1a.jpg'\n"
     ]
    }
   ],
   "source": [
    "images_ds = tf.data.Dataset.list_files('images/*/*', shuffle=False)\n",
    "for file in images_ds.take(3).as_numpy_iterator():\n",
    "    print(file)"
   ]
  },
  {
   "cell_type": "code",
   "execution_count": 112,
   "id": "b5575eb6-9e58-4aac-b709-7804d2fb5cff",
   "metadata": {},
   "outputs": [
    {
     "name": "stdout",
     "output_type": "stream",
     "text": [
      "b'images/cat/360_F_409262227_YxFl54ykmDRYwPgd2YNLhfwPAF34Iqah.jpg'\n",
      "b'images/cat/Cat_March_2010-1.jpg'\n",
      "b'images/cat/Cat_November_2010-1a.jpg'\n"
     ]
    }
   ],
   "source": [
    "images_ds = tf.data.Dataset.list_files('images/*/*', shuffle=False)\n",
    "for file in images_ds.take(3):\n",
    "    print(file.numpy())"
   ]
  },
  {
   "cell_type": "code",
   "execution_count": 113,
   "id": "d8cd9637-3ca2-4295-8c84-a88dce36e551",
   "metadata": {},
   "outputs": [
    {
     "name": "stdout",
     "output_type": "stream",
     "text": [
      "b'images/dog/Nala_by_Outdoor_Action_Photography_small.jpg'\n",
      "b'images/cat/cat-scratching-furniture.jpg'\n",
      "b'images/cat/June_odd-eyed-cat_cropped.jpg'\n"
     ]
    }
   ],
   "source": [
    "images_ds = images_ds.shuffle(200)\n",
    "for file in images_ds.take(3).as_numpy_iterator():\n",
    "    print(file)"
   ]
  },
  {
   "cell_type": "code",
   "execution_count": 114,
   "id": "a9edf6dc-fe24-49b7-a746-423fa61de5b5",
   "metadata": {},
   "outputs": [],
   "source": [
    "class_names = ['cat', 'dog']"
   ]
  },
  {
   "cell_type": "code",
   "execution_count": 115,
   "id": "420c2686-ab25-4abb-a881-bdfc7703312d",
   "metadata": {},
   "outputs": [
    {
     "data": {
      "text/plain": [
       "26"
      ]
     },
     "execution_count": 115,
     "metadata": {},
     "output_type": "execute_result"
    }
   ],
   "source": [
    "image_count = len(images_ds)\n",
    "image_count"
   ]
  },
  {
   "cell_type": "code",
   "execution_count": 116,
   "id": "c65874bb-7d4e-4026-8e4a-1df160ba337b",
   "metadata": {},
   "outputs": [],
   "source": [
    "train_size = int(image_count*0.8)\n",
    "\n",
    "train_ds = images_ds.take(train_size)\n",
    "test_ds = images_ds.skip(train_size)"
   ]
  },
  {
   "cell_type": "code",
   "execution_count": 117,
   "id": "704af084-6d34-4a46-910b-0ee26266ef77",
   "metadata": {},
   "outputs": [
    {
     "data": {
      "text/plain": [
       "20"
      ]
     },
     "execution_count": 117,
     "metadata": {},
     "output_type": "execute_result"
    }
   ],
   "source": [
    "len(train_ds)"
   ]
  },
  {
   "cell_type": "code",
   "execution_count": 118,
   "id": "02446e90-d1d3-40f3-8b79-8d4e505f72c0",
   "metadata": {},
   "outputs": [
    {
     "data": {
      "text/plain": [
       "6"
      ]
     },
     "execution_count": 118,
     "metadata": {},
     "output_type": "execute_result"
    }
   ],
   "source": [
    "len(test_ds)"
   ]
  },
  {
   "cell_type": "markdown",
   "id": "cace9776-5363-490e-a0f3-3dfde87afad0",
   "metadata": {},
   "source": [
    "## LABEL"
   ]
  },
  {
   "cell_type": "code",
   "execution_count": 119,
   "id": "39b59cf4-b8ba-487f-8121-fe774d18eeb5",
   "metadata": {},
   "outputs": [],
   "source": [
    "def get_label(file_path):\n",
    "    import os\n",
    "    return tf.strings.split(file_path, os.path.sep)[-2]\n",
    "    "
   ]
  },
  {
   "cell_type": "code",
   "execution_count": 120,
   "id": "beb5d79a-0a36-4440-8e86-24da402fc270",
   "metadata": {},
   "outputs": [],
   "source": [
    "def process_image(file_path):\n",
    "    label = get_label(file_path)\n",
    "    \n",
    "    img = tf.io.read_file(file_path)\n",
    "    img = tf.image.decode_jpeg(img)\n",
    "    img = tf.image.resize(img, [128,128])\n",
    "    \n",
    "    return img, label"
   ]
  },
  {
   "cell_type": "code",
   "execution_count": 121,
   "id": "e7d80974-01c5-4bdb-bd9d-a4acf4ac29e9",
   "metadata": {},
   "outputs": [
    {
     "name": "stdout",
     "output_type": "stream",
     "text": [
      "b'images/cat/Cat_November_2010-1a.jpg'\n",
      "b'images/cat/June_odd-eyed-cat_cropped.jpg'\n",
      "b'images/dog/Racer.jpg'\n"
     ]
    }
   ],
   "source": [
    "for p in train_ds.take(3).as_numpy_iterator():\n",
    "    print(p)"
   ]
  },
  {
   "cell_type": "code",
   "execution_count": 122,
   "id": "ec16b574-4743-485b-8469-65126a68be08",
   "metadata": {},
   "outputs": [
    {
     "name": "stdout",
     "output_type": "stream",
     "text": [
      "Image: [[[238.83203  237.83203  217.83203 ]\n",
      "  [237.83203  236.83203  216.83203 ]\n",
      "  [236.       235.       215.      ]\n",
      "  ...\n",
      "  [226.83203  227.83203  195.83203 ]\n",
      "  [227.66406  226.66406  196.4961  ]\n",
      "  [226.       226.       192.      ]]\n",
      "\n",
      " [[237.4961   236.4961   216.4961  ]\n",
      "  [239.4961   238.4961   218.4961  ]\n",
      "  [236.       235.       215.      ]\n",
      "  ...\n",
      "  [223.4961   224.4961   192.4961  ]\n",
      "  [226.5039   225.5039   194.5039  ]\n",
      "  [223.4961   223.4961   189.4961  ]]\n",
      "\n",
      " [[237.83984  236.83984  218.51953 ]\n",
      "  [234.32031  233.32031  215.      ]\n",
      "  [236.67969  235.67969  217.35938 ]\n",
      "  ...\n",
      "  [223.67969  224.67969  192.67969 ]\n",
      "  [226.16016  225.16016  195.      ]\n",
      "  [221.32031  221.32031  187.32031 ]]\n",
      "\n",
      " ...\n",
      "\n",
      " [[ 57.51953   39.51953   27.519531]\n",
      "  [ 55.320312  37.320312  25.320312]\n",
      "  [ 51.839844  33.839844  19.839844]\n",
      "  ...\n",
      "  [ 67.59766   46.597656  29.597656]\n",
      "  [ 76.55859   50.558594  35.558594]\n",
      "  [ 79.51953   53.51953   36.51953 ]]\n",
      "\n",
      " [[ 62.        44.        32.992188]\n",
      "  [ 60.023438  41.03125   29.527344]\n",
      "  [ 64.49609   46.496094  34.496094]\n",
      "  ...\n",
      "  [ 65.96094   42.960938  26.960938]\n",
      "  [ 64.984375  41.984375  25.984375]\n",
      "  [ 75.96875   49.96875   34.96875 ]]\n",
      "\n",
      " [[ 60.17578   40.17578   31.175781]\n",
      "  [ 59.671875  39.671875  28.671875]\n",
      "  [ 44.34375   26.34375   14.34375 ]\n",
      "  ...\n",
      "  [ 64.83984   38.839844  23.839844]\n",
      "  [ 57.503906  34.503906  18.503906]\n",
      "  [ 61.51172   35.51172   20.511719]]]\n",
      "Label: b'dog'\n",
      "Image: [[[245.      242.      233.     ]\n",
      "  [245.      242.      233.     ]\n",
      "  [245.      242.      233.     ]\n",
      "  ...\n",
      "  [249.      246.      239.     ]\n",
      "  [249.4951  246.21776 238.66307]\n",
      "  [250.      246.      237.     ]]\n",
      "\n",
      " [[245.      242.      233.     ]\n",
      "  [245.      242.      233.     ]\n",
      "  [245.      242.      233.     ]\n",
      "  ...\n",
      "  [249.      246.      239.     ]\n",
      "  [249.27734 246.      238.44531]\n",
      "  [249.35547 245.35547 236.35547]]\n",
      "\n",
      " [[245.      242.      233.     ]\n",
      "  [245.      242.      233.     ]\n",
      "  [245.      242.      233.     ]\n",
      "  ...\n",
      "  [249.      246.      239.     ]\n",
      "  [248.97942 245.70207 238.14738]\n",
      "  [247.92578 243.92578 234.77734]]\n",
      "\n",
      " ...\n",
      "\n",
      " [[246.      243.      234.     ]\n",
      "  [246.      243.      234.     ]\n",
      "  [246.      243.      234.     ]\n",
      "  ...\n",
      "  [250.      247.      242.     ]\n",
      "  [250.      247.      242.     ]\n",
      "  [250.      247.      242.     ]]\n",
      "\n",
      " [[245.      242.      233.     ]\n",
      "  [245.      242.      233.     ]\n",
      "  [245.      242.      233.     ]\n",
      "  ...\n",
      "  [250.      247.      242.     ]\n",
      "  [250.      247.      242.     ]\n",
      "  [250.      247.      242.     ]]\n",
      "\n",
      " [[244.21484 241.21484 232.21484]\n",
      "  [244.21484 241.21484 232.21484]\n",
      "  [244.21484 241.21484 232.21484]\n",
      "  ...\n",
      "  [250.      247.      242.     ]\n",
      "  [250.      247.      242.     ]\n",
      "  [250.      247.      242.     ]]]\n",
      "Label: b'dog'\n",
      "Image: [[[ 77.828125  92.62109   95.      ]\n",
      "  [ 86.62109  101.41406  103.79297 ]\n",
      "  [ 89.65625  104.24219  100.41406 ]\n",
      "  ...\n",
      "  [146.3789   121.58594   91.20703 ]\n",
      "  [142.55078  117.96484   86.96484 ]\n",
      "  [146.72266  121.75781   89.171875]]\n",
      "\n",
      " [[101.515625 114.75781  114.      ]\n",
      "  [ 96.27344  109.515625 108.75781 ]\n",
      "  [ 89.515625 104.75781  105.13672 ]\n",
      "  ...\n",
      "  [149.6211   126.75781   99.13672 ]\n",
      "  [143.13672  117.89453   91.27344 ]\n",
      "  [164.3789   131.3789    97.13672 ]]\n",
      "\n",
      " [[127.859375 129.89453  119.03516 ]\n",
      "  [122.859375 123.89453  118.      ]\n",
      "  [120.71875  123.96484  116.92969 ]\n",
      "  ...\n",
      "  [145.10547  125.07031  100.      ]\n",
      "  [151.03516  125.03516   91.96484 ]\n",
      "  [150.21094  124.21094   91.140625]]\n",
      "\n",
      " ...\n",
      "\n",
      " [[123.10547  124.03516  109.89453 ]\n",
      "  [109.63281  110.49219   96.38672 ]\n",
      "  [130.70312  126.421875 115.38672 ]\n",
      "  ...\n",
      "  [117.578125 118.64844  110.61328 ]\n",
      "  [130.66406  132.80469  122.12109 ]\n",
      "  [148.76953  150.94531  140.05078 ]]\n",
      "\n",
      " [[139.16797  132.16797  116.16797 ]\n",
      "  [141.       138.10547  120.86328 ]\n",
      "  [137.07422  130.10547  116.96875 ]\n",
      "  ...\n",
      "  [140.6289   150.6289   141.6289  ]\n",
      "  [129.34766  133.48438  124.10547 ]\n",
      "  [ 92.62109   95.75781   92.37891 ]]\n",
      "\n",
      " [[136.79297  134.79297  119.79297 ]\n",
      "  [145.07422  139.07422  125.07422 ]\n",
      "  [156.72266  152.55078  132.55078 ]\n",
      "  ...\n",
      "  [117.41406  119.41406  108.41406 ]\n",
      "  [113.58594  115.58594  104.58594 ]\n",
      "  [127.96484  128.96484  122.96484 ]]]\n",
      "Label: b'dog'\n"
     ]
    }
   ],
   "source": [
    "train_ds = train_ds.map(process_image)\n",
    "for img, label in train_ds.take(3):\n",
    "    print(f'Image: {img}')\n",
    "    print(f'Label: {label}')"
   ]
  },
  {
   "cell_type": "code",
   "execution_count": 123,
   "id": "5f72f23d-46ef-46d0-a43e-f9e428f4fb0f",
   "metadata": {},
   "outputs": [],
   "source": [
    "def normalize_img(img, label):\n",
    "    return img/255, label"
   ]
  },
  {
   "cell_type": "code",
   "execution_count": 124,
   "id": "0290f687-88b0-4f84-908e-9699e72b6a52",
   "metadata": {},
   "outputs": [
    {
     "name": "stdout",
     "output_type": "stream",
     "text": [
      "Image: [[[1. 1. 1.]\n",
      "  [1. 1. 1.]\n",
      "  [1. 1. 1.]\n",
      "  ...\n",
      "  [1. 1. 1.]\n",
      "  [1. 1. 1.]\n",
      "  [1. 1. 1.]]\n",
      "\n",
      " [[1. 1. 1.]\n",
      "  [1. 1. 1.]\n",
      "  [1. 1. 1.]\n",
      "  ...\n",
      "  [1. 1. 1.]\n",
      "  [1. 1. 1.]\n",
      "  [1. 1. 1.]]\n",
      "\n",
      " [[1. 1. 1.]\n",
      "  [1. 1. 1.]\n",
      "  [1. 1. 1.]\n",
      "  ...\n",
      "  [1. 1. 1.]\n",
      "  [1. 1. 1.]\n",
      "  [1. 1. 1.]]\n",
      "\n",
      " ...\n",
      "\n",
      " [[1. 1. 1.]\n",
      "  [1. 1. 1.]\n",
      "  [1. 1. 1.]\n",
      "  ...\n",
      "  [1. 1. 1.]\n",
      "  [1. 1. 1.]\n",
      "  [1. 1. 1.]]\n",
      "\n",
      " [[1. 1. 1.]\n",
      "  [1. 1. 1.]\n",
      "  [1. 1. 1.]\n",
      "  ...\n",
      "  [1. 1. 1.]\n",
      "  [1. 1. 1.]\n",
      "  [1. 1. 1.]]\n",
      "\n",
      " [[1. 1. 1.]\n",
      "  [1. 1. 1.]\n",
      "  [1. 1. 1.]\n",
      "  ...\n",
      "  [1. 1. 1.]\n",
      "  [1. 1. 1.]\n",
      "  [1. 1. 1.]]]\n",
      "Label: b'cat'\n",
      "Image: [[[0.9607843  0.9490196  0.9137255 ]\n",
      "  [0.9607843  0.9490196  0.9137255 ]\n",
      "  [0.9607843  0.9490196  0.9137255 ]\n",
      "  ...\n",
      "  [0.9764706  0.9647059  0.9372549 ]\n",
      "  [0.97841215 0.96555984 0.9359336 ]\n",
      "  [0.98039216 0.9647059  0.92941177]]\n",
      "\n",
      " [[0.9607843  0.9490196  0.9137255 ]\n",
      "  [0.9607843  0.9490196  0.9137255 ]\n",
      "  [0.9607843  0.9490196  0.9137255 ]\n",
      "  ...\n",
      "  [0.9764706  0.9647059  0.9372549 ]\n",
      "  [0.9775582  0.9647059  0.93507963]\n",
      "  [0.97786456 0.9621783  0.9268842 ]]\n",
      "\n",
      " [[0.9607843  0.9490196  0.9137255 ]\n",
      "  [0.9607843  0.9490196  0.9137255 ]\n",
      "  [0.9607843  0.9490196  0.9137255 ]\n",
      "  ...\n",
      "  [0.9764706  0.9647059  0.9372549 ]\n",
      "  [0.9763899  0.9635375  0.9339113 ]\n",
      "  [0.972258   0.9565717  0.9206955 ]]\n",
      "\n",
      " ...\n",
      "\n",
      " [[0.9647059  0.9529412  0.91764706]\n",
      "  [0.9647059  0.9529412  0.91764706]\n",
      "  [0.9647059  0.9529412  0.91764706]\n",
      "  ...\n",
      "  [0.98039216 0.96862745 0.9490196 ]\n",
      "  [0.98039216 0.96862745 0.9490196 ]\n",
      "  [0.98039216 0.96862745 0.9490196 ]]\n",
      "\n",
      " [[0.9607843  0.9490196  0.9137255 ]\n",
      "  [0.9607843  0.9490196  0.9137255 ]\n",
      "  [0.9607843  0.9490196  0.9137255 ]\n",
      "  ...\n",
      "  [0.98039216 0.96862745 0.9490196 ]\n",
      "  [0.98039216 0.96862745 0.9490196 ]\n",
      "  [0.98039216 0.96862745 0.9490196 ]]\n",
      "\n",
      " [[0.95770526 0.94594055 0.91064644]\n",
      "  [0.95770526 0.94594055 0.91064644]\n",
      "  [0.95770526 0.94594055 0.91064644]\n",
      "  ...\n",
      "  [0.98039216 0.96862745 0.9490196 ]\n",
      "  [0.98039216 0.96862745 0.9490196 ]\n",
      "  [0.98039216 0.96862745 0.9490196 ]]]\n",
      "Label: b'dog'\n",
      "Image: [[[0.3395886  0.3160592  0.26900035]\n",
      "  [0.34447044 0.32878417 0.29349005]\n",
      "  [0.3390625  0.32337624 0.2880821 ]\n",
      "  ...\n",
      "  [0.15287991 0.15287991 0.15287991]\n",
      "  [0.16806114 0.16806114 0.16806114]\n",
      "  [0.18122463 0.1851462  0.16553836]]\n",
      "\n",
      " [[0.33743873 0.31390932 0.2668505 ]\n",
      "  [0.34010416 0.3244179  0.28912377]\n",
      "  [0.32466298 0.3089767  0.2736826 ]\n",
      "  ...\n",
      "  [0.16254835 0.16254835 0.16254835]\n",
      "  [0.1636781  0.1636781  0.1636781 ]\n",
      "  [0.17141545 0.17533702 0.15572916]]\n",
      "\n",
      " [[0.34586397 0.3301777  0.28704044]\n",
      "  [0.33938178 0.31977394 0.29624453]\n",
      "  [0.31403187 0.29442403 0.27089462]\n",
      "  ...\n",
      "  [0.15722369 0.15722369 0.15722369]\n",
      "  [0.16009738 0.16009738 0.16009738]\n",
      "  [0.18133761 0.18133761 0.18133761]]\n",
      "\n",
      " ...\n",
      "\n",
      " [[0.29575434 0.44477394 0.2526171 ]\n",
      "  [0.34197304 0.46823394 0.27386642]\n",
      "  [0.33700982 0.4507353  0.19138184]\n",
      "  ...\n",
      "  [0.6340198  0.5507568  0.06057895]\n",
      "  [0.41359815 0.46749386 0.11664896]\n",
      "  [0.4710425  0.46693712 0.01332242]]\n",
      "\n",
      " [[0.28146446 0.43440562 0.2265625 ]\n",
      "  [0.3364277  0.4640625  0.27083334]\n",
      "  [0.34262934 0.45635483 0.19753131]\n",
      "  ...\n",
      "  [0.4887949  0.4778574  0.03012456]\n",
      "  [0.4956902  0.4961804  0.10553864]\n",
      "  [0.4146475  0.44029182 0.        ]]\n",
      "\n",
      " [[0.22632171 0.38589108 0.14455615]\n",
      "  [0.3287703  0.4590399  0.25015604]\n",
      "  [0.3291882  0.4429137  0.18409017]\n",
      "  ...\n",
      "  [0.42642704 0.4797751  0.02272853]\n",
      "  [0.32927006 0.34838483 0.01942976]\n",
      "  [0.42988184 0.48482403 0.01578776]]]\n",
      "Label: b'dog'\n",
      "Image: [[[1.         1.         1.        ]\n",
      "  [1.         1.         1.        ]\n",
      "  [1.         1.         1.        ]\n",
      "  ...\n",
      "  [1.         1.         1.        ]\n",
      "  [1.         1.         1.        ]\n",
      "  [1.         1.         1.        ]]\n",
      "\n",
      " [[1.         1.         1.        ]\n",
      "  [1.         1.         1.        ]\n",
      "  [1.         1.         1.        ]\n",
      "  ...\n",
      "  [1.         1.         1.        ]\n",
      "  [1.         1.         1.        ]\n",
      "  [1.         1.         1.        ]]\n",
      "\n",
      " [[1.         1.         1.        ]\n",
      "  [1.         1.         1.        ]\n",
      "  [1.         1.         1.        ]\n",
      "  ...\n",
      "  [1.         1.         1.        ]\n",
      "  [1.         1.         1.        ]\n",
      "  [1.         1.         1.        ]]\n",
      "\n",
      " ...\n",
      "\n",
      " [[0.3137255  0.3254902  0.3552696 ]\n",
      "  [0.36397058 0.36789215 0.38357842]\n",
      "  [0.2784314  0.27058825 0.2901961 ]\n",
      "  ...\n",
      "  [1.         1.         1.        ]\n",
      "  [1.         1.         1.        ]\n",
      "  [1.         1.         1.        ]]\n",
      "\n",
      " [[0.14613971 0.18927696 0.27224264]\n",
      "  [0.1723652  0.20373775 0.27824754]\n",
      "  [0.17071079 0.20042892 0.27328432]\n",
      "  ...\n",
      "  [1.         1.         1.        ]\n",
      "  [1.         1.         1.        ]\n",
      "  [1.         1.         1.        ]]\n",
      "\n",
      " [[0.08792892 0.12322304 0.18314952]\n",
      "  [0.08345588 0.12659314 0.20612745]\n",
      "  [0.0930147  0.12046569 0.19160539]\n",
      "  ...\n",
      "  [1.         1.         1.        ]\n",
      "  [1.         1.         1.        ]\n",
      "  [1.         1.         1.        ]]]\n",
      "Label: b'cat'\n",
      "Image: [[[0.7882353  0.7411765  0.6784314 ]\n",
      "  [0.77794117 0.7465686  0.6985294 ]\n",
      "  [0.7411765  0.7137255  0.66568625]\n",
      "  ...\n",
      "  [0.3122549  0.36715686 0.26911765]\n",
      "  [0.27450982 0.32156864 0.24313726]\n",
      "  [0.2485294  0.2995098  0.22107843]]\n",
      "\n",
      " [[0.777451   0.7343137  0.6637255 ]\n",
      "  [0.77892154 0.75147057 0.6789216 ]\n",
      "  [0.7627451  0.72745097 0.6637255 ]\n",
      "  ...\n",
      "  [0.29607844 0.35882354 0.25686276]\n",
      "  [0.27009803 0.31715685 0.23872548]\n",
      "  [0.2995098  0.3348039  0.2602941 ]]\n",
      "\n",
      " [[0.79362744 0.7465686  0.67009807]\n",
      "  [0.7862745  0.7392157  0.6627451 ]\n",
      "  [0.7970588  0.7509804  0.6789216 ]\n",
      "  ...\n",
      "  [0.3019608  0.36078432 0.26078433]\n",
      "  [0.27303922 0.32843137 0.24264705]\n",
      "  [0.30882353 0.35588235 0.2617647 ]]\n",
      "\n",
      " ...\n",
      "\n",
      " [[0.4990196  0.45196077 0.38333333]\n",
      "  [0.46372548 0.42843136 0.3617647 ]\n",
      "  [0.452451   0.40735295 0.34068626]\n",
      "  ...\n",
      "  [0.2882353  0.32352942 0.21764706]\n",
      "  [0.26617646 0.30147058 0.1877451 ]\n",
      "  [0.28529412 0.31666666 0.22254902]]\n",
      "\n",
      " [[0.47107843 0.42009804 0.35735294]\n",
      "  [0.49117646 0.44019607 0.37745097]\n",
      "  [0.49264705 0.44558823 0.39068627]\n",
      "  ...\n",
      "  [0.31911764 0.35833332 0.25245097]\n",
      "  [0.30490196 0.3480392  0.23039216]\n",
      "  [0.28529412 0.3245098  0.21862745]]\n",
      "\n",
      " [[0.45833334 0.40735295 0.34460783]\n",
      "  [0.48088235 0.42990196 0.36715686]\n",
      "  [0.4852941  0.43823528 0.38333333]\n",
      "  ...\n",
      "  [0.3367647  0.37990198 0.25833333]\n",
      "  [0.3230392  0.36617646 0.2485294 ]\n",
      "  [0.3254902  0.3647059  0.25882354]]]\n",
      "Label: b'cat'\n"
     ]
    }
   ],
   "source": [
    "train_ds = train_ds.map(normalize_img)\n",
    "for img, label in train_ds.take(5):\n",
    "    print(f'Image: {img}')\n",
    "    print(f'Label: {label}')"
   ]
  },
  {
   "cell_type": "code",
   "execution_count": null,
   "id": "14271247-1ebb-4b2c-9d5a-83cd618aaa2e",
   "metadata": {},
   "outputs": [],
   "source": []
  }
 ],
 "metadata": {
  "kernelspec": {
   "display_name": "Python 3 (ipykernel)",
   "language": "python",
   "name": "python3"
  },
  "language_info": {
   "codemirror_mode": {
    "name": "ipython",
    "version": 3
   },
   "file_extension": ".py",
   "mimetype": "text/x-python",
   "name": "python",
   "nbconvert_exporter": "python",
   "pygments_lexer": "ipython3",
   "version": "3.11.0rc1"
  }
 },
 "nbformat": 4,
 "nbformat_minor": 5
}
